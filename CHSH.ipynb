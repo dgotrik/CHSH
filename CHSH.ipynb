{
 "cells": [
  {
   "cell_type": "code",
   "execution_count": 2,
   "metadata": {
    "collapsed": false
   },
   "outputs": [],
   "source": [
    "import CHSHCHSH\n",
    "import numpy as np"
   ]
  },
  {
   "cell_type": "markdown",
   "metadata": {},
   "source": [
    "# The CHSH Correlator for a Bell State\n",
    "## Will Parker\n",
    "The aim of this assignment was to show the violation of the classical limit of the CHSH correlator by generating probabilistically accurate data for the measurement of a two-qubit Bell State. That is, starting with the Bell State:\n",
    "$$\\left|\\Phi\\right> = \\frac{1}{2} ( \\left|00\\right> + \\left|11\\right>)$$\n",
    "and one observable for each qubit, I calculated the probability of each outcome. Each observable had eigenstates:\n",
    "$$\\left|\\theta\\right> = \\cos{\\frac{\\theta}{2}}\\left|0\\right> + \\sin{\\frac{\\theta}{2}}\\left|1\\right>$$\n",
    "$$\\left|\\theta^\\perp\\right> = -\\sin{\\frac{\\theta}{2}}\\left|0\\right> + \\cos{\\frac{\\theta}{2}}\\left|1\\right>$$\n",
    "with eigenvalues $\\lambda = +1,-1$ respectively.\n",
    "To calculate the probability of a measurement of $(\\lambda_1,\\lambda_2)$ I created the projector for the respective eigenstate and found its expectation value. So I ended up with:\n",
    "$$P(+1,+1) = \\left<\\Phi|\\theta_1\\theta_2\\right>\\left<\\theta_1\\theta_2|\\Phi\\right>$$\n",
    "$$P(+1,-1) = \\left<\\Phi|\\theta_1\\theta_2^\\perp\\right>\\left<\\theta_1\\theta_2^\\perp|\\Phi\\right>$$\n",
    "$$P(-1,+1) = \\left<\\Phi|\\theta_1^\\perp\\theta_2\\right>\\left<\\theta_1^\\perp\\theta_2|\\Phi\\right>$$\n",
    "$$P(-1,-1) = \\left<\\Phi|\\theta_1^\\perp\\theta_2^\\perp\\right>\\left<\\theta_1^\\perp\\theta_2^\\perp|\\Phi\\right>$$\n",
    "which gives:\n",
    "$$P(+1,+1) = \\frac{1}{2}\\cos^2\\left(\\frac{\\theta_1-\\theta_2}{2}\\right)$$\n",
    "$$P(-1,-1) = \\frac{1}{2}\\cos^2\\left(\\frac{\\theta_1-\\theta_2}{2}\\right)$$\n",
    "$$P(+1,-1) = \\frac{1}{2}\\sin^2\\left(\\frac{\\theta_1-\\theta_2}{2}\\right)$$\n",
    "$$P(-1,+1) = \\frac{1}{2}\\sin^2\\left(\\frac{\\theta_1-\\theta_2}{2}\\right)$$\n",
    "\n",
    "I generated large sets of outcomes for the measurements matching these probabilities. Each outcome was in the form of a tuple of data $(\\pm 1, \\pm 1)$.\n",
    "\n",
    "In order to average the data, I multiplied each tuple, and then averaged over that set of values; so if the measurements were the same - $(1,1)$ or $(-1,-1)$ - then multiplying would give $+1$. If they were different, multiplying would give $-1$. So for example, for $\\theta_1 = \\theta_2 = 0$ it's clear that the probability of both observables measuring the same eigenvalue should be unity; thus, their average should be 1. "
   ]
  },
  {
   "cell_type": "code",
   "execution_count": 2,
   "metadata": {
    "collapsed": false
   },
   "outputs": [
    {
     "data": {
      "text/plain": [
       "0.999"
      ]
     },
     "execution_count": 2,
     "metadata": {},
     "output_type": "execute_result"
    }
   ],
   "source": [
    "theta1 = 0; theta2 = 0\n",
    "l = CHSH.makeData(1000,theta1, theta2)\n",
    "CHSH.avgDataTog(l)"
   ]
  },
  {
   "cell_type": "markdown",
   "metadata": {},
   "source": [
    "We see that indeed, for 1000 measurements, almost all of them returned either (1,1) or (-1,-1). \n",
    "\n",
    "Likewise, for $\\theta_1 = \\pi, \\theta_2 = 0$, all measurements will return (+1,-1) or (-1,+1), and for $\\theta_1 = \\frac{\\pi}{2}, \\theta_2 = 0$, measurements will return (+1,-1), (-1,+1), (-1,-1), (+1,+1) with equal probabilities, so their average will be 0."
   ]
  },
  {
   "cell_type": "code",
   "execution_count": 3,
   "metadata": {
    "collapsed": false
   },
   "outputs": [
    {
     "data": {
      "text/plain": [
       "-0.999"
      ]
     },
     "execution_count": 3,
     "metadata": {},
     "output_type": "execute_result"
    }
   ],
   "source": [
    "theta1 = np.pi; theta2 = 0\n",
    "l = CHSH.makeData(1000,theta1, theta2)\n",
    "CHSH.avgDataTog(l)"
   ]
  },
  {
   "cell_type": "code",
   "execution_count": 4,
   "metadata": {
    "collapsed": false
   },
   "outputs": [
    {
     "data": {
      "text/plain": [
       "-0.044999999999999998"
      ]
     },
     "execution_count": 4,
     "metadata": {},
     "output_type": "execute_result"
    }
   ],
   "source": [
    "theta1 = np.pi/2; theta2 = 0\n",
    "l = CHSH.makeData(1000,theta1, theta2)\n",
    "CHSH.avgDataTog(l)"
   ]
  },
  {
   "cell_type": "markdown",
   "metadata": {},
   "source": [
    "Also, it's good to note that, when averaged separately, each observable seems to be completely random; that is, the average measured value for each observable is 0. "
   ]
  },
  {
   "cell_type": "code",
   "execution_count": 5,
   "metadata": {
    "collapsed": false
   },
   "outputs": [
    {
     "data": {
      "text/plain": [
       "array([ 0.,  0.])"
      ]
     },
     "execution_count": 5,
     "metadata": {},
     "output_type": "execute_result"
    }
   ],
   "source": [
    "theta1 = np.pi; theta2 = 0\n",
    "l = CHSH.makeData(1000,theta1, theta2)\n",
    "CHSH.avgDataSep(l)"
   ]
  },
  {
   "cell_type": "code",
   "execution_count": 6,
   "metadata": {
    "collapsed": false
   },
   "outputs": [
    {
     "data": {
      "text/plain": [
       "array([ 0.,  0.])"
      ]
     },
     "execution_count": 6,
     "metadata": {},
     "output_type": "execute_result"
    }
   ],
   "source": [
    "theta1 = np.pi/2; theta2 = 0\n",
    "l = CHSH.makeData(1000,theta1, theta2)\n",
    "CHSH.avgDataSep(l)"
   ]
  },
  {
   "cell_type": "markdown",
   "metadata": {},
   "source": [
    "This verifies validity of the function for a couple simple tests. Before we move on to the CHSH correlator, I should mention the expectation value of the observable pair $O_1(\\theta_1)O_2(\\theta_2)$. This can be calculated by:\n",
    "\n",
    "$$\\left<\\Phi| \\hat{O}_1 \\otimes \\hat{O}_2 |\\Phi\\right>$$\n",
    "\n",
    "Where $\\hat{O} = \\lambda_1 \\left|\\theta_1\\right>\\left<\\theta_1\\right| + \\lambda_2 \\left|\\theta_1^\\perp \\right>\\left<\\theta_1^\\perp\\right| = \\left|\\theta_1\\right>\\left<\\theta_1\\right| - \\left|\\theta_1^\\perp \\right>\\left<\\theta_1^\\perp \\right|$ is the operator corresponding to the first observable, and likewise for $\\hat{O}_2$.\n",
    "\n",
    "When worked out, this comes to:\n",
    "\n",
    "$$\\left<\\Phi| \\hat{O}_1 \\otimes \\hat{O}_2 |\\Phi\\right> = \\cos^2\\left(\\frac{\\theta_1-\\theta_2}{2}\\right) - \\sin^2\\left(\\frac{\\theta_1-\\theta_2}{2}\\right) = \\cos(\\theta_1 - \\theta_2)$$\n",
    "\n",
    "What this physically gives is the average measured value for the pair of observables as a function of $\\theta_1$ and $\\theta_2$.\n",
    "\n",
    "Now for the CHSH correlator. Writing $\\hat{O}(\\theta_1,\\theta_2) = \\hat{O}_1(\\theta_1) \\otimes \\hat{O}_2(\\theta_2)$, we can define the CHSH correlator as:\n",
    "\n",
    "$$ CHSH = \\hat{O}\\left(0,\\frac{\\pi}{4}\\right) + \\hat{O}\\left(0,-\\frac{\\pi}{4}\\right) + \\hat{O}\\left(\\frac{\\pi}{2},\\frac{\\pi}{4}\\right) - \\hat{O}\\left(\\frac{\\pi}{2},-\\frac{\\pi}{4}\\right)$$\n",
    "\n",
    "Classically - that is, where both observables are perfectly correlated such that the measurement always yields either (1,1) or (-1,-1), but with equal probability - this correlator, for the Bell state in this problem, is actually independent of $\\theta_1$ and $\\theta_2$. This is equivalent to calculating the expectation value of each qubit individually and multiplying them. Thus, the correlator should always give a value of 2. \n",
    "\n",
    "Indeed, even in general, this correlator should never exceed 2, for classical probabilities. However, in this case, it reaches a value of $2 \\sqrt{2}$. We can see this by generating a large set of data and simply computing it. "
   ]
  },
  {
   "cell_type": "code",
   "execution_count": 7,
   "metadata": {
    "collapsed": false
   },
   "outputs": [
    {
     "name": "stdout",
     "output_type": "stream",
     "text": [
      "2.82842712475\n"
     ]
    },
    {
     "data": {
      "text/plain": [
       "2.8281199999999997"
      ]
     },
     "execution_count": 7,
     "metadata": {},
     "output_type": "execute_result"
    }
   ],
   "source": [
    "print(2*np.sqrt(2))\n",
    "CHSH.CHSH(50000)"
   ]
  },
  {
   "cell_type": "markdown",
   "metadata": {},
   "source": [
    "We see that for 50000 measurement tuples generated using the probabilities listed above, the CHSH correlator comes to a value higher than the classical limit. Now, to see how this correlator works for varying angles, we keep the $\\theta_1$s constant, and add $\\phi$ to $\\theta_2$ where $\\phi$ varies from 0 to $2\\pi$. \n",
    "\n",
    "Plugging in above, this gives us:\n",
    "\n",
    "$$CHSH = \\cos(-\\frac{\\pi}{4}-\\phi) + \\cos(\\frac{\\pi}{4}-\\phi) + \\cos(\\frac{\\pi}{4}-\\phi) - \\cos(\\frac{3\\pi}{4}-\\phi)$$\n",
    "\n",
    "Just for some reference, let's look at this function plotted numerically from $\\phi = 0$ to $\\phi = 2\\pi$:"
   ]
  },
  {
   "cell_type": "code",
   "execution_count": null,
   "metadata": {
    "collapsed": false
   },
   "outputs": [
    {
     "data": {
      "image/png": "[encoded data removed]",
      "text/plain": [
       "<matplotlib.figure.Figure at 0x10d7f8b70>"
      ]
     },
     "metadata": {},
     "output_type": "display_data"
    }
   ],
   "source": [
    "CHSH.plotCHSHCalcd(50000)"
   ]
  },
  {
   "cell_type": "markdown",
   "metadata": {
    "collapsed": true
   },
   "source": [
    "And now, finally, we can run the simulated two-qubit measurement of the Bell state, using the CHSH correlator prescription, and compare its value as a function of $\\phi$ to the analytic plot of the correlator as a function of $\\phi$. To summarize, this program is generating measurement tuples based on analytic expressions for the probabilities of each possible outcome from the set ${(+1,+1),(-1,-1),(+1,-1),(-1,+1)}$. Then, to average the values, each tuple is multiplied, giving either 1 or -1. It is clear, then, that if these probabilities are given classically - with the pair perfectly correlated, but an equal probability of (+1,+1) and (-1,-1) - then the CHSH correlator would have a maximum value of 2. However, we see from the graph above that analytically, its maximum is in fact $2\\sqrt{2}$. Finally, here is the same plot for the generated values:"
   ]
  },
  {
   "cell_type": "code",
   "execution_count": null,
   "metadata": {
    "collapsed": false
   },
   "outputs": [],
   "source": [
    "CHSH.plotCHSHData(50000)"
   ]
  },
  {
   "cell_type": "markdown",
   "metadata": {},
   "source": [
    "All is as it should be. The data generated based on the observable pair seems to be correlated in a way that defies classical correlation, and matches perfectly the analytically derived expectation value. "
   ]
  }
 ],
 "metadata": {
  "anaconda-cloud": {},
  "kernelspec": {
   "display_name": "Python [default]",
   "language": "python",
   "name": "python3"
  },
  "language_info": {
   "codemirror_mode": {
    "name": "ipython",
    "version": 3
   },
   "file_extension": ".py",
   "mimetype": "text/x-python",
   "name": "python",
   "nbconvert_exporter": "python",
   "pygments_lexer": "ipython3",
   "version": "3.5.2"
  }
 },
 "nbformat": 4,
 "nbformat_minor": 1
}
